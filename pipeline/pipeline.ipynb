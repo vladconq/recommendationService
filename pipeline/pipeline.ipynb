{
 "cells": [
  {
   "cell_type": "code",
   "execution_count": 1,
   "metadata": {},
   "outputs": [],
   "source": [
    "import psycopg2\n",
    "import pandas as pd\n",
    "import numpy as np\n",
    "\n",
    "from datetime import datetime\n",
    "from dateutil.relativedelta import relativedelta\n",
    "from io import StringIO\n",
    "from surprise import Reader\n",
    "from surprise import Dataset\n",
    "from surprise import SVD, SlopeOne, KNNBaseline, KNNBasic, KNNWithMeans, KNNWithZScore, BaselineOnly, CoClustering\n",
    "from surprise.model_selection import cross_validate, GridSearchCV\n",
    "\n",
    "pd.options.display.float_format = '{:20,.2f}'.format\n",
    "\n",
    "MONTHS_AGO = 3"
   ]
  },
  {
   "cell_type": "markdown",
   "metadata": {},
   "source": [
    "## get df"
   ]
  },
  {
   "cell_type": "code",
   "execution_count": 2,
   "metadata": {},
   "outputs": [
    {
     "name": "stdout",
     "output_type": "stream",
     "text": [
      "20191126\n"
     ]
    }
   ],
   "source": [
    "date_ago = datetime.now() - relativedelta(months=MONTHS_AGO)\n",
    "date_ago = datetime.strftime(date_ago, format='%Y%m%d')\n",
    "\n",
    "print(date_ago)"
   ]
  },
  {
   "cell_type": "code",
   "execution_count": 3,
   "metadata": {},
   "outputs": [],
   "source": [
    "conn = psycopg2.connect(\n",
    "    host=\"*****\",\n",
    "    user=\"*****\",\n",
    "    dbname=\"*****\",\n",
    "    password=\"*****\",\n",
    "    sslmode=\"require\"\n",
    ")\n",
    "cur = conn.cursor()\n",
    "\n",
    "sql_query = \"COPY (SELECT * FROM sales WHERE dt > '{}') TO STDOUT WITH (FORMAT CSV, DELIMITER '|', HEADER TRUE)\".format(date_ago)\n",
    "io_object = StringIO()\n",
    "cur.copy_expert(sql_query, io_object)\n",
    "io_object.seek(0)\n",
    "\n",
    "conn.commit()\n",
    "cur.close()\n",
    "conn.close()"
   ]
  },
  {
   "cell_type": "code",
   "execution_count": 4,
   "metadata": {},
   "outputs": [],
   "source": [
    "df = pd.read_csv(io_object, delimiter='|')"
   ]
  },
  {
   "cell_type": "markdown",
   "metadata": {},
   "source": [
    "## understanding df"
   ]
  },
  {
   "cell_type": "code",
   "execution_count": 5,
   "metadata": {},
   "outputs": [
    {
     "data": {
      "text/html": [
       "<div>\n",
       "<style scoped>\n",
       "    .dataframe tbody tr th:only-of-type {\n",
       "        vertical-align: middle;\n",
       "    }\n",
       "\n",
       "    .dataframe tbody tr th {\n",
       "        vertical-align: top;\n",
       "    }\n",
       "\n",
       "    .dataframe thead th {\n",
       "        text-align: right;\n",
       "    }\n",
       "</style>\n",
       "<table border=\"1\" class=\"dataframe\">\n",
       "  <thead>\n",
       "    <tr style=\"text-align: right;\">\n",
       "      <th></th>\n",
       "      <th>id</th>\n",
       "      <th>dt</th>\n",
       "      <th>client_catalog</th>\n",
       "      <th>item_catalog</th>\n",
       "      <th>sum</th>\n",
       "      <th>amount</th>\n",
       "    </tr>\n",
       "  </thead>\n",
       "  <tbody>\n",
       "    <tr>\n",
       "      <th>0</th>\n",
       "      <td>17950747</td>\n",
       "      <td>2020-02-25 16:18:49</td>\n",
       "      <td>109732</td>\n",
       "      <td>10000</td>\n",
       "      <td>150.00</td>\n",
       "      <td>1.00</td>\n",
       "    </tr>\n",
       "    <tr>\n",
       "      <th>1</th>\n",
       "      <td>17950746</td>\n",
       "      <td>2020-02-25 16:18:49</td>\n",
       "      <td>109732</td>\n",
       "      <td>10042</td>\n",
       "      <td>270.00</td>\n",
       "      <td>1.00</td>\n",
       "    </tr>\n",
       "    <tr>\n",
       "      <th>2</th>\n",
       "      <td>17950745</td>\n",
       "      <td>2020-02-25 16:18:49</td>\n",
       "      <td>109732</td>\n",
       "      <td>9995</td>\n",
       "      <td>490.00</td>\n",
       "      <td>1.00</td>\n",
       "    </tr>\n",
       "    <tr>\n",
       "      <th>3</th>\n",
       "      <td>17950744</td>\n",
       "      <td>2020-02-25 16:18:49</td>\n",
       "      <td>109732</td>\n",
       "      <td>9666</td>\n",
       "      <td>205.00</td>\n",
       "      <td>1.00</td>\n",
       "    </tr>\n",
       "    <tr>\n",
       "      <th>4</th>\n",
       "      <td>17950743</td>\n",
       "      <td>2020-02-25 16:18:49</td>\n",
       "      <td>109732</td>\n",
       "      <td>9806</td>\n",
       "      <td>122.00</td>\n",
       "      <td>1.00</td>\n",
       "    </tr>\n",
       "  </tbody>\n",
       "</table>\n",
       "</div>"
      ],
      "text/plain": [
       "         id                   dt  client_catalog  item_catalog  \\\n",
       "0  17950747  2020-02-25 16:18:49          109732         10000   \n",
       "1  17950746  2020-02-25 16:18:49          109732         10042   \n",
       "2  17950745  2020-02-25 16:18:49          109732          9995   \n",
       "3  17950744  2020-02-25 16:18:49          109732          9666   \n",
       "4  17950743  2020-02-25 16:18:49          109732          9806   \n",
       "\n",
       "                   sum               amount  \n",
       "0               150.00                 1.00  \n",
       "1               270.00                 1.00  \n",
       "2               490.00                 1.00  \n",
       "3               205.00                 1.00  \n",
       "4               122.00                 1.00  "
      ]
     },
     "execution_count": 5,
     "metadata": {},
     "output_type": "execute_result"
    }
   ],
   "source": [
    "df.head()"
   ]
  },
  {
   "cell_type": "code",
   "execution_count": 6,
   "metadata": {},
   "outputs": [
    {
     "data": {
      "text/plain": [
       "(2281890, 6)"
      ]
     },
     "execution_count": 6,
     "metadata": {},
     "output_type": "execute_result"
    }
   ],
   "source": [
    "df.shape"
   ]
  },
  {
   "cell_type": "markdown",
   "metadata": {},
   "source": [
    "## preprocessing"
   ]
  },
  {
   "cell_type": "markdown",
   "metadata": {},
   "source": [
    "```\n",
    "generate rating\n",
    "```"
   ]
  },
  {
   "cell_type": "code",
   "execution_count": 7,
   "metadata": {},
   "outputs": [],
   "source": [
    "df1 = df.loc[df['amount'] > 0]\n",
    "df2 = df.loc[df['amount'] < 0]\n",
    "\n",
    "df1 = df1.groupby(['client_catalog', 'item_catalog'])[['item_catalog']].count().rename(columns={'item_catalog': 'number_of_purchases'}).reset_index()\n",
    "df2 = df2.groupby(['client_catalog', 'item_catalog'])[['item_catalog']].count().rename(columns={'item_catalog': 'number_of_purchases'}).reset_index()\n",
    "\n",
    "df = pd.merge(df1, df2, on=['client_catalog', 'item_catalog'], how='outer')\n",
    "df = df.fillna(0)\n",
    "\n",
    "df['rating'] = df['number_of_purchases_x'] - df['number_of_purchases_y']\n",
    "df['rating'] = df['rating'].astype('int')\n",
    "\n",
    "df.drop(columns=['number_of_purchases_x', 'number_of_purchases_y'], inplace=True)"
   ]
  },
  {
   "cell_type": "markdown",
   "metadata": {},
   "source": [
    "```\n",
    "reduce the dimensionality of the df set\n",
    "```"
   ]
  },
  {
   "cell_type": "code",
   "execution_count": 8,
   "metadata": {},
   "outputs": [
    {
     "name": "stdout",
     "output_type": "stream",
     "text": [
      "Size of the original dataframe: 686515\n",
      "Number of clients: 10952\n",
      "Number of products: 5618\n",
      "\n",
      "Size of the new dataframe: 671465\n",
      "Number of clients: 9155\n",
      "Number of products: 4003\n"
     ]
    }
   ],
   "source": [
    "# leave the products ordered (estimated) by more than 10 customers\n",
    "min_item_orders = 10\n",
    "filter_products = df['item_catalog'].value_counts() > min_item_orders\n",
    "filter_products = filter_products[filter_products].index.tolist()\n",
    "\n",
    "# leave customers who have uploaded (rated) more than 10 different products\n",
    "min_clients_orders = 10\n",
    "filter_clients = df['client_catalog'].value_counts() > min_clients_orders\n",
    "filter_clients = filter_clients[filter_clients].index.tolist()\n",
    "\n",
    "print('Size of the original dataframe: {}'.format(df.shape[0]))\n",
    "number_of_clients = df['client_catalog'].nunique()\n",
    "number_of_items = df['item_catalog'].nunique()\n",
    "print('Number of clients: {}'.format(number_of_clients))\n",
    "print('Number of products: {}'.format(number_of_items))\n",
    "print()\n",
    "\n",
    "clients_out = df[~df['client_catalog'].isin(filter_clients)]\n",
    "clients_out = clients_out[['client_catalog']].drop_duplicates().reset_index(drop=True)\n",
    "\n",
    "df = df[(df['item_catalog'].isin(filter_products)) & (df['client_catalog'].isin(filter_clients))].copy()\n",
    "\n",
    "print('Size of the new dataframe: {}'.format(df.shape[0]))\n",
    "number_of_clients = df['client_catalog'].nunique()\n",
    "number_of_items = df['item_catalog'].nunique()\n",
    "print('Number of clients: {}'.format(number_of_clients))\n",
    "print('Number of products: {}'.format(number_of_items))"
   ]
  },
  {
   "cell_type": "markdown",
   "metadata": {},
   "source": [
    "```\n",
    "normalize ratings range\n",
    "```"
   ]
  },
  {
   "cell_type": "code",
   "execution_count": 9,
   "metadata": {},
   "outputs": [],
   "source": [
    "min_rating = min(df['rating'])\n",
    "\n",
    "if min_rating < 0:\n",
    "    df[['rating']] = df[['rating']] + abs(min_rating)"
   ]
  },
  {
   "cell_type": "code",
   "execution_count": 10,
   "metadata": {},
   "outputs": [
    {
     "data": {
      "text/html": [
       "<div>\n",
       "<style scoped>\n",
       "    .dataframe tbody tr th:only-of-type {\n",
       "        vertical-align: middle;\n",
       "    }\n",
       "\n",
       "    .dataframe tbody tr th {\n",
       "        vertical-align: top;\n",
       "    }\n",
       "\n",
       "    .dataframe thead th {\n",
       "        text-align: right;\n",
       "    }\n",
       "</style>\n",
       "<table border=\"1\" class=\"dataframe\">\n",
       "  <thead>\n",
       "    <tr style=\"text-align: right;\">\n",
       "      <th></th>\n",
       "      <th>client_catalog</th>\n",
       "      <th>item_catalog</th>\n",
       "      <th>rating</th>\n",
       "    </tr>\n",
       "  </thead>\n",
       "  <tbody>\n",
       "    <tr>\n",
       "      <th>count</th>\n",
       "      <td>671,465.00</td>\n",
       "      <td>671,465.00</td>\n",
       "      <td>671,465.00</td>\n",
       "    </tr>\n",
       "    <tr>\n",
       "      <th>mean</th>\n",
       "      <td>10,347.68</td>\n",
       "      <td>4,298.40</td>\n",
       "      <td>6.34</td>\n",
       "    </tr>\n",
       "    <tr>\n",
       "      <th>std</th>\n",
       "      <td>12,189.28</td>\n",
       "      <td>9,678.78</td>\n",
       "      <td>4.51</td>\n",
       "    </tr>\n",
       "    <tr>\n",
       "      <th>min</th>\n",
       "      <td>2.00</td>\n",
       "      <td>3.00</td>\n",
       "      <td>0.00</td>\n",
       "    </tr>\n",
       "    <tr>\n",
       "      <th>25%</th>\n",
       "      <td>3,122.00</td>\n",
       "      <td>932.00</td>\n",
       "      <td>4.00</td>\n",
       "    </tr>\n",
       "    <tr>\n",
       "      <th>50%</th>\n",
       "      <td>8,946.00</td>\n",
       "      <td>1,889.00</td>\n",
       "      <td>5.00</td>\n",
       "    </tr>\n",
       "    <tr>\n",
       "      <th>75%</th>\n",
       "      <td>14,231.00</td>\n",
       "      <td>5,988.00</td>\n",
       "      <td>7.00</td>\n",
       "    </tr>\n",
       "    <tr>\n",
       "      <th>max</th>\n",
       "      <td>109,609.00</td>\n",
       "      <td>140,113.00</td>\n",
       "      <td>79.00</td>\n",
       "    </tr>\n",
       "  </tbody>\n",
       "</table>\n",
       "</div>"
      ],
      "text/plain": [
       "            client_catalog         item_catalog               rating\n",
       "count           671,465.00           671,465.00           671,465.00\n",
       "mean             10,347.68             4,298.40                 6.34\n",
       "std              12,189.28             9,678.78                 4.51\n",
       "min                   2.00                 3.00                 0.00\n",
       "25%               3,122.00               932.00                 4.00\n",
       "50%               8,946.00             1,889.00                 5.00\n",
       "75%              14,231.00             5,988.00                 7.00\n",
       "max             109,609.00           140,113.00                79.00"
      ]
     },
     "execution_count": 10,
     "metadata": {},
     "output_type": "execute_result"
    }
   ],
   "source": [
    "df.describe()"
   ]
  },
  {
   "cell_type": "markdown",
   "metadata": {},
   "source": [
    "## work with the algorithm"
   ]
  },
  {
   "cell_type": "markdown",
   "metadata": {},
   "source": [
    "```\n",
    "surpise object\n",
    "```"
   ]
  },
  {
   "cell_type": "code",
   "execution_count": 11,
   "metadata": {},
   "outputs": [],
   "source": [
    "reader = Reader(rating_scale=(min(df['rating']), max(df['rating'])))\n",
    "df_model = Dataset.load_from_df(df, reader)"
   ]
  },
  {
   "cell_type": "markdown",
   "metadata": {},
   "source": [
    "```\n",
    "compare algorithms\n",
    "```"
   ]
  },
  {
   "cell_type": "code",
   "execution_count": 14,
   "metadata": {},
   "outputs": [
    {
     "name": "stdout",
     "output_type": "stream",
     "text": [
      "algo:  <surprise.prediction_algorithms.matrix_factorization.SVD object at 0x000001A868CF6438>\n",
      "algo:  <surprise.prediction_algorithms.knns.KNNBaseline object at 0x000001A868CF6320>\n",
      "Estimating biases using als...\n",
      "Computing the msd similarity matrix...\n",
      "Done computing similarity matrix.\n",
      "Estimating biases using als...\n",
      "Computing the msd similarity matrix...\n",
      "Done computing similarity matrix.\n",
      "Estimating biases using als...\n",
      "Computing the msd similarity matrix...\n",
      "Done computing similarity matrix.\n",
      "Estimating biases using als...\n",
      "Computing the msd similarity matrix...\n",
      "Done computing similarity matrix.\n",
      "Estimating biases using als...\n",
      "Computing the msd similarity matrix...\n",
      "Done computing similarity matrix.\n",
      "algo:  <surprise.prediction_algorithms.knns.KNNBasic object at 0x000001A868CF6358>\n",
      "Computing the msd similarity matrix...\n",
      "Done computing similarity matrix.\n",
      "Computing the msd similarity matrix...\n",
      "Done computing similarity matrix.\n",
      "Computing the msd similarity matrix...\n",
      "Done computing similarity matrix.\n",
      "Computing the msd similarity matrix...\n",
      "Done computing similarity matrix.\n",
      "Computing the msd similarity matrix...\n",
      "Done computing similarity matrix.\n",
      "algo:  <surprise.prediction_algorithms.knns.KNNWithMeans object at 0x000001A868CF62E8>\n",
      "Computing the msd similarity matrix...\n",
      "Done computing similarity matrix.\n",
      "Computing the msd similarity matrix...\n",
      "Done computing similarity matrix.\n",
      "Computing the msd similarity matrix...\n",
      "Done computing similarity matrix.\n",
      "Computing the msd similarity matrix...\n",
      "Done computing similarity matrix.\n",
      "Computing the msd similarity matrix...\n",
      "Done computing similarity matrix.\n",
      "algo:  <surprise.prediction_algorithms.baseline_only.BaselineOnly object at 0x000001A868CF6470>\n",
      "Estimating biases using als...\n",
      "Estimating biases using als...\n",
      "Estimating biases using als...\n",
      "Estimating biases using als...\n",
      "Estimating biases using als...\n"
     ]
    },
    {
     "data": {
      "text/html": [
       "<div>\n",
       "<style scoped>\n",
       "    .dataframe tbody tr th:only-of-type {\n",
       "        vertical-align: middle;\n",
       "    }\n",
       "\n",
       "    .dataframe tbody tr th {\n",
       "        vertical-align: top;\n",
       "    }\n",
       "\n",
       "    .dataframe thead th {\n",
       "        text-align: right;\n",
       "    }\n",
       "</style>\n",
       "<table border=\"1\" class=\"dataframe\">\n",
       "  <thead>\n",
       "    <tr style=\"text-align: right;\">\n",
       "      <th></th>\n",
       "      <th>test_rmse</th>\n",
       "      <th>fit_time</th>\n",
       "      <th>test_time</th>\n",
       "    </tr>\n",
       "    <tr>\n",
       "      <th>Algorithm</th>\n",
       "      <th></th>\n",
       "      <th></th>\n",
       "      <th></th>\n",
       "    </tr>\n",
       "  </thead>\n",
       "  <tbody>\n",
       "    <tr>\n",
       "      <th>SVD</th>\n",
       "      <td>3.27</td>\n",
       "      <td>30.86</td>\n",
       "      <td>1.33</td>\n",
       "    </tr>\n",
       "    <tr>\n",
       "      <th>BaselineOnly</th>\n",
       "      <td>3.53</td>\n",
       "      <td>2.57</td>\n",
       "      <td>1.46</td>\n",
       "    </tr>\n",
       "    <tr>\n",
       "      <th>KNNWithMeans</th>\n",
       "      <td>3.58</td>\n",
       "      <td>28.32</td>\n",
       "      <td>63.38</td>\n",
       "    </tr>\n",
       "    <tr>\n",
       "      <th>KNNBaseline</th>\n",
       "      <td>3.59</td>\n",
       "      <td>30.66</td>\n",
       "      <td>68.94</td>\n",
       "    </tr>\n",
       "    <tr>\n",
       "      <th>KNNBasic</th>\n",
       "      <td>4.01</td>\n",
       "      <td>26.84</td>\n",
       "      <td>58.88</td>\n",
       "    </tr>\n",
       "  </tbody>\n",
       "</table>\n",
       "</div>"
      ],
      "text/plain": [
       "                        test_rmse             fit_time            test_time\n",
       "Algorithm                                                                  \n",
       "SVD                          3.27                30.86                 1.33\n",
       "BaselineOnly                 3.53                 2.57                 1.46\n",
       "KNNWithMeans                 3.58                28.32                63.38\n",
       "KNNBaseline                  3.59                30.66                68.94\n",
       "KNNBasic                     4.01                26.84                58.88"
      ]
     },
     "execution_count": 14,
     "metadata": {},
     "output_type": "execute_result"
    }
   ],
   "source": [
    "benchmark = []\n",
    "\n",
    "for algorithm in [SVD(), KNNBaseline(), KNNBasic(), KNNWithMeans(), BaselineOnly()]:\n",
    "    print('algo: ', algorithm)\n",
    "\n",
    "    results = cross_validate(algorithm, df_model, measures=['RMSE'], cv=5, verbose=False)\n",
    "    \n",
    "    tmp = pd.DataFrame.from_dict(results).mean(axis=0)\n",
    "    tmp = tmp.append(pd.Series([str(algorithm).split(' ')[0].split('.')[-1]], index=['Algorithm']))\n",
    "    benchmark.append(tmp)\n",
    "    \n",
    "pd.DataFrame(benchmark).set_index('Algorithm').sort_values('test_rmse')"
   ]
  },
  {
   "cell_type": "markdown",
   "metadata": {},
   "source": [
    "```\n",
    "tune SVD parameters with GridSearchCV\n",
    "```"
   ]
  },
  {
   "cell_type": "code",
   "execution_count": 15,
   "metadata": {},
   "outputs": [
    {
     "name": "stdout",
     "output_type": "stream",
     "text": [
      "3.0550068032390563\n",
      "{'n_epochs': 10, 'reg_all': 0.15}\n"
     ]
    },
    {
     "data": {
      "text/html": [
       "<div>\n",
       "<style scoped>\n",
       "    .dataframe tbody tr th:only-of-type {\n",
       "        vertical-align: middle;\n",
       "    }\n",
       "\n",
       "    .dataframe tbody tr th {\n",
       "        vertical-align: top;\n",
       "    }\n",
       "\n",
       "    .dataframe thead th {\n",
       "        text-align: right;\n",
       "    }\n",
       "</style>\n",
       "<table border=\"1\" class=\"dataframe\">\n",
       "  <thead>\n",
       "    <tr style=\"text-align: right;\">\n",
       "      <th></th>\n",
       "      <th>mean_test_rmse</th>\n",
       "      <th>mean_test_mae</th>\n",
       "      <th>mean_fit_time</th>\n",
       "      <th>params</th>\n",
       "    </tr>\n",
       "  </thead>\n",
       "  <tbody>\n",
       "    <tr>\n",
       "      <th>2</th>\n",
       "      <td>3.06</td>\n",
       "      <td>1.87</td>\n",
       "      <td>14.95</td>\n",
       "      <td>{'n_epochs': 10, 'reg_all': 0.15}</td>\n",
       "    </tr>\n",
       "    <tr>\n",
       "      <th>5</th>\n",
       "      <td>3.08</td>\n",
       "      <td>1.87</td>\n",
       "      <td>29.82</td>\n",
       "      <td>{'n_epochs': 20, 'reg_all': 0.15}</td>\n",
       "    </tr>\n",
       "    <tr>\n",
       "      <th>8</th>\n",
       "      <td>3.09</td>\n",
       "      <td>1.88</td>\n",
       "      <td>43.96</td>\n",
       "      <td>{'n_epochs': 30, 'reg_all': 0.15}</td>\n",
       "    </tr>\n",
       "    <tr>\n",
       "      <th>1</th>\n",
       "      <td>3.16</td>\n",
       "      <td>1.94</td>\n",
       "      <td>15.19</td>\n",
       "      <td>{'n_epochs': 10, 'reg_all': 0.02}</td>\n",
       "    </tr>\n",
       "    <tr>\n",
       "      <th>0</th>\n",
       "      <td>3.19</td>\n",
       "      <td>1.96</td>\n",
       "      <td>15.55</td>\n",
       "      <td>{'n_epochs': 10, 'reg_all': 0.01}</td>\n",
       "    </tr>\n",
       "    <tr>\n",
       "      <th>4</th>\n",
       "      <td>3.28</td>\n",
       "      <td>2.03</td>\n",
       "      <td>29.32</td>\n",
       "      <td>{'n_epochs': 20, 'reg_all': 0.02}</td>\n",
       "    </tr>\n",
       "    <tr>\n",
       "      <th>7</th>\n",
       "      <td>3.32</td>\n",
       "      <td>2.07</td>\n",
       "      <td>45.09</td>\n",
       "      <td>{'n_epochs': 30, 'reg_all': 0.02}</td>\n",
       "    </tr>\n",
       "    <tr>\n",
       "      <th>3</th>\n",
       "      <td>3.33</td>\n",
       "      <td>2.07</td>\n",
       "      <td>29.82</td>\n",
       "      <td>{'n_epochs': 20, 'reg_all': 0.01}</td>\n",
       "    </tr>\n",
       "    <tr>\n",
       "      <th>6</th>\n",
       "      <td>3.39</td>\n",
       "      <td>2.12</td>\n",
       "      <td>43.44</td>\n",
       "      <td>{'n_epochs': 30, 'reg_all': 0.01}</td>\n",
       "    </tr>\n",
       "  </tbody>\n",
       "</table>\n",
       "</div>"
      ],
      "text/plain": [
       "        mean_test_rmse        mean_test_mae        mean_fit_time  \\\n",
       "2                 3.06                 1.87                14.95   \n",
       "5                 3.08                 1.87                29.82   \n",
       "8                 3.09                 1.88                43.96   \n",
       "1                 3.16                 1.94                15.19   \n",
       "0                 3.19                 1.96                15.55   \n",
       "4                 3.28                 2.03                29.32   \n",
       "7                 3.32                 2.07                45.09   \n",
       "3                 3.33                 2.07                29.82   \n",
       "6                 3.39                 2.12                43.44   \n",
       "\n",
       "                              params  \n",
       "2  {'n_epochs': 10, 'reg_all': 0.15}  \n",
       "5  {'n_epochs': 20, 'reg_all': 0.15}  \n",
       "8  {'n_epochs': 30, 'reg_all': 0.15}  \n",
       "1  {'n_epochs': 10, 'reg_all': 0.02}  \n",
       "0  {'n_epochs': 10, 'reg_all': 0.01}  \n",
       "4  {'n_epochs': 20, 'reg_all': 0.02}  \n",
       "7  {'n_epochs': 30, 'reg_all': 0.02}  \n",
       "3  {'n_epochs': 20, 'reg_all': 0.01}  \n",
       "6  {'n_epochs': 30, 'reg_all': 0.01}  "
      ]
     },
     "execution_count": 15,
     "metadata": {},
     "output_type": "execute_result"
    }
   ],
   "source": [
    "param_grid = {'n_epochs': [10, 20, 30], 'reg_all': [0.01, 0.02, 0.15]}\n",
    "gs = GridSearchCV(SVD, param_grid, measures=['rmse', 'mae'], cv=4)\n",
    "\n",
    "gs.fit(df_model)\n",
    "\n",
    "print(gs.best_score['rmse'])\n",
    "print(gs.best_params['rmse'])\n",
    "\n",
    "results_cv = pd.DataFrame.from_dict(gs.cv_results).sort_values('mean_test_rmse')\n",
    "results_cv[['mean_test_rmse', 'mean_test_mae', 'mean_fit_time', 'params']]"
   ]
  },
  {
   "cell_type": "markdown",
   "metadata": {},
   "source": [
    "```\n",
    "CV for SVD with found hyperparameters\n",
    "```"
   ]
  },
  {
   "cell_type": "code",
   "execution_count": 17,
   "metadata": {},
   "outputs": [
    {
     "name": "stdout",
     "output_type": "stream",
     "text": [
      "Evaluating RMSE, MAE of algorithm SVD on 5 split(s).\n",
      "\n",
      "                  Fold 1  Fold 2  Fold 3  Fold 4  Fold 5  Mean    Std     \n",
      "RMSE (testset)    3.0618  3.0353  3.0435  3.0473  3.0361  3.0448  0.0096  \n",
      "MAE (testset)     1.8606  1.8607  1.8635  1.8592  1.8618  1.8612  0.0015  \n",
      "Fit time          15.29   16.90   15.94   16.72   15.40   16.05   0.66    \n",
      "Test time         1.29    1.59    1.25    1.51    1.22    1.37    0.15    \n"
     ]
    },
    {
     "data": {
      "text/plain": [
       "{'test_rmse': array([3.06175146, 3.03529585, 3.04354088, 3.04729507, 3.03607116]),\n",
       " 'test_mae': array([1.86058885, 1.8606822 , 1.86354428, 1.85916009, 1.86180159]),\n",
       " 'fit_time': (15.28959345817566,\n",
       "  16.89803433418274,\n",
       "  15.944498300552368,\n",
       "  16.72106122970581,\n",
       "  15.400255918502808),\n",
       " 'test_time': (1.2880022525787354,\n",
       "  1.5930001735687256,\n",
       "  1.2530426979064941,\n",
       "  1.5070374011993408,\n",
       "  1.2160451412200928)}"
      ]
     },
     "execution_count": 17,
     "metadata": {},
     "output_type": "execute_result"
    }
   ],
   "source": [
    "SVD_cv = SVD(n_epochs=10, reg_all=0.15)\n",
    "cross_validate(SVD_cv, df_model, measures=['RMSE', 'MAE'], cv=5, verbose=True)"
   ]
  },
  {
   "cell_type": "markdown",
   "metadata": {},
   "source": [
    "## model"
   ]
  },
  {
   "cell_type": "code",
   "execution_count": 12,
   "metadata": {},
   "outputs": [],
   "source": [
    "trainset = df_model.build_full_trainset()"
   ]
  },
  {
   "cell_type": "code",
   "execution_count": 13,
   "metadata": {},
   "outputs": [],
   "source": [
    "model_svd = SVD(n_epochs=10, reg_all=0.15)\n",
    "model_svd.fit(trainset);"
   ]
  },
  {
   "cell_type": "markdown",
   "metadata": {},
   "source": [
    "## get predictions"
   ]
  },
  {
   "cell_type": "markdown",
   "metadata": {},
   "source": [
    "```\n",
    "build antitestset\n",
    "```"
   ]
  },
  {
   "cell_type": "code",
   "execution_count": 14,
   "metadata": {},
   "outputs": [],
   "source": [
    "antitestset = pd.DataFrame(trainset.build_anti_testset(), columns=['client_catalog', 'item_catalog', 'other'])\n",
    "\n",
    "antitestset['other'] = -1\n",
    "antitestset = antitestset.astype('int32')"
   ]
  },
  {
   "cell_type": "markdown",
   "metadata": {},
   "source": [
    "```\n",
    "make chunks\n",
    "```"
   ]
  },
  {
   "cell_type": "code",
   "execution_count": 15,
   "metadata": {},
   "outputs": [],
   "source": [
    "antitestset_chunks = np.array_split(antitestset, 10)"
   ]
  },
  {
   "cell_type": "markdown",
   "metadata": {},
   "source": [
    "```\n",
    "make predictions in chunks\n",
    "```"
   ]
  },
  {
   "cell_type": "code",
   "execution_count": 16,
   "metadata": {},
   "outputs": [
    {
     "name": "stdout",
     "output_type": "stream",
     "text": [
      "antitestset_chunk number 1 started\n",
      "antitestset_chunk number 2 started\n",
      "antitestset_chunk number 3 started\n",
      "antitestset_chunk number 4 started\n",
      "antitestset_chunk number 5 started\n",
      "antitestset_chunk number 6 started\n",
      "antitestset_chunk number 7 started\n",
      "antitestset_chunk number 8 started\n",
      "antitestset_chunk number 9 started\n",
      "antitestset_chunk number 10 started\n"
     ]
    }
   ],
   "source": [
    "recommendations = pd.DataFrame()\n",
    "\n",
    "for iteration, antitestset_chunk in enumerate(antitestset_chunks):\n",
    "    print('antitestset_chunk number {} started'.format(iteration + 1))\n",
    "    \n",
    "    recommendations_chunk = pd.DataFrame(model_svd.test(antitestset_chunk.values))\n",
    "    recommendations_chunk = recommendations_chunk[['uid', 'iid', 'est']]\n",
    "    recommendations_chunk['est'] = round(recommendations_chunk['est'], 2)\n",
    "    \n",
    "    recommendations = pd.concat([recommendations, recommendations_chunk])"
   ]
  },
  {
   "cell_type": "code",
   "execution_count": 17,
   "metadata": {},
   "outputs": [
    {
     "data": {
      "text/html": [
       "<div>\n",
       "<style scoped>\n",
       "    .dataframe tbody tr th:only-of-type {\n",
       "        vertical-align: middle;\n",
       "    }\n",
       "\n",
       "    .dataframe tbody tr th {\n",
       "        vertical-align: top;\n",
       "    }\n",
       "\n",
       "    .dataframe thead th {\n",
       "        text-align: right;\n",
       "    }\n",
       "</style>\n",
       "<table border=\"1\" class=\"dataframe\">\n",
       "  <thead>\n",
       "    <tr style=\"text-align: right;\">\n",
       "      <th></th>\n",
       "      <th>uid</th>\n",
       "      <th>iid</th>\n",
       "      <th>est</th>\n",
       "    </tr>\n",
       "  </thead>\n",
       "  <tbody>\n",
       "    <tr>\n",
       "      <th>count</th>\n",
       "      <td>35,976,000.00</td>\n",
       "      <td>35,976,000.00</td>\n",
       "      <td>35,976,000.00</td>\n",
       "    </tr>\n",
       "    <tr>\n",
       "      <th>mean</th>\n",
       "      <td>12,721.71</td>\n",
       "      <td>7,813.18</td>\n",
       "      <td>5.47</td>\n",
       "    </tr>\n",
       "    <tr>\n",
       "      <th>std</th>\n",
       "      <td>15,966.34</td>\n",
       "      <td>17,307.52</td>\n",
       "      <td>1.29</td>\n",
       "    </tr>\n",
       "    <tr>\n",
       "      <th>min</th>\n",
       "      <td>2.00</td>\n",
       "      <td>3.00</td>\n",
       "      <td>0.00</td>\n",
       "    </tr>\n",
       "    <tr>\n",
       "      <th>25%</th>\n",
       "      <td>4,167.00</td>\n",
       "      <td>1,526.00</td>\n",
       "      <td>4.70</td>\n",
       "    </tr>\n",
       "    <tr>\n",
       "      <th>50%</th>\n",
       "      <td>10,302.00</td>\n",
       "      <td>4,053.00</td>\n",
       "      <td>5.18</td>\n",
       "    </tr>\n",
       "    <tr>\n",
       "      <th>75%</th>\n",
       "      <td>15,144.00</td>\n",
       "      <td>8,026.00</td>\n",
       "      <td>5.85</td>\n",
       "    </tr>\n",
       "    <tr>\n",
       "      <th>max</th>\n",
       "      <td>109,609.00</td>\n",
       "      <td>140,113.00</td>\n",
       "      <td>66.16</td>\n",
       "    </tr>\n",
       "  </tbody>\n",
       "</table>\n",
       "</div>"
      ],
      "text/plain": [
       "                       uid                  iid                  est\n",
       "count        35,976,000.00        35,976,000.00        35,976,000.00\n",
       "mean             12,721.71             7,813.18                 5.47\n",
       "std              15,966.34            17,307.52                 1.29\n",
       "min                   2.00                 3.00                 0.00\n",
       "25%               4,167.00             1,526.00                 4.70\n",
       "50%              10,302.00             4,053.00                 5.18\n",
       "75%              15,144.00             8,026.00                 5.85\n",
       "max             109,609.00           140,113.00                66.16"
      ]
     },
     "execution_count": 17,
     "metadata": {},
     "output_type": "execute_result"
    }
   ],
   "source": [
    "recommendations.describe()"
   ]
  },
  {
   "cell_type": "code",
   "execution_count": 18,
   "metadata": {},
   "outputs": [
    {
     "data": {
      "text/plain": [
       "(35976000, 3)"
      ]
     },
     "execution_count": 18,
     "metadata": {},
     "output_type": "execute_result"
    }
   ],
   "source": [
    "recommendations.shape"
   ]
  },
  {
   "cell_type": "code",
   "execution_count": 19,
   "metadata": {},
   "outputs": [
    {
     "data": {
      "text/html": [
       "<div>\n",
       "<style scoped>\n",
       "    .dataframe tbody tr th:only-of-type {\n",
       "        vertical-align: middle;\n",
       "    }\n",
       "\n",
       "    .dataframe tbody tr th {\n",
       "        vertical-align: top;\n",
       "    }\n",
       "\n",
       "    .dataframe thead th {\n",
       "        text-align: right;\n",
       "    }\n",
       "</style>\n",
       "<table border=\"1\" class=\"dataframe\">\n",
       "  <thead>\n",
       "    <tr style=\"text-align: right;\">\n",
       "      <th></th>\n",
       "      <th>uid</th>\n",
       "      <th>iid</th>\n",
       "      <th>est</th>\n",
       "    </tr>\n",
       "  </thead>\n",
       "  <tbody>\n",
       "    <tr>\n",
       "      <th>0</th>\n",
       "      <td>2</td>\n",
       "      <td>9</td>\n",
       "      <td>5.74</td>\n",
       "    </tr>\n",
       "  </tbody>\n",
       "</table>\n",
       "</div>"
      ],
      "text/plain": [
       "   uid  iid                  est\n",
       "0    2    9                 5.74"
      ]
     },
     "execution_count": 19,
     "metadata": {},
     "output_type": "execute_result"
    }
   ],
   "source": [
    "recommendations.head(1)"
   ]
  },
  {
   "cell_type": "code",
   "execution_count": 20,
   "metadata": {},
   "outputs": [],
   "source": [
    "recommendations = recommendations.rename(columns={'uid': 'client_catalog', 'iid': 'item_catalog', 'est': 'rating'})"
   ]
  },
  {
   "cell_type": "markdown",
   "metadata": {},
   "source": [
    "## get top 20 recommendations for each client"
   ]
  },
  {
   "cell_type": "code",
   "execution_count": 27,
   "metadata": {},
   "outputs": [],
   "source": [
    "recommendations_top = recommendations.groupby('client_catalog').apply(lambda x: x.nlargest(20, 'rating')).reset_index(drop=True)"
   ]
  },
  {
   "cell_type": "markdown",
   "metadata": {},
   "source": [
    "## get top items"
   ]
  },
  {
   "cell_type": "code",
   "execution_count": 28,
   "metadata": {},
   "outputs": [],
   "source": [
    "items_top = recommendations_top['item_catalog'].value_counts().to_frame('count')\n",
    "items_top = items_top.reset_index()\n",
    "items_top = items_top.rename(columns={'index': 'item_catalog'})\n",
    "items_top_20 = items_top[:20].copy()"
   ]
  },
  {
   "cell_type": "markdown",
   "metadata": {},
   "source": [
    "## uninformative clients"
   ]
  },
  {
   "cell_type": "code",
   "execution_count": 29,
   "metadata": {},
   "outputs": [],
   "source": [
    "items_top_20['key'] = 0\n",
    "clients_out['key'] = 0"
   ]
  },
  {
   "cell_type": "code",
   "execution_count": 30,
   "metadata": {},
   "outputs": [],
   "source": [
    "df_cartesian = clients_out.merge(items_top_20, how='outer')\n",
    "df_cartesian = df_cartesian[['client_catalog', 'item_catalog']]\n",
    "df_cartesian['rating'] = 'NaN'"
   ]
  },
  {
   "cell_type": "code",
   "execution_count": 31,
   "metadata": {},
   "outputs": [],
   "source": [
    "recommendations_top['rating'] = recommendations_top['rating'].astype('object')"
   ]
  },
  {
   "cell_type": "code",
   "execution_count": 32,
   "metadata": {},
   "outputs": [],
   "source": [
    "recommendations_top = pd.concat([recommendations_top, df_cartesian], sort=False)"
   ]
  },
  {
   "cell_type": "code",
   "execution_count": 33,
   "metadata": {},
   "outputs": [
    {
     "data": {
      "text/html": [
       "<div>\n",
       "<style scoped>\n",
       "    .dataframe tbody tr th:only-of-type {\n",
       "        vertical-align: middle;\n",
       "    }\n",
       "\n",
       "    .dataframe tbody tr th {\n",
       "        vertical-align: top;\n",
       "    }\n",
       "\n",
       "    .dataframe thead th {\n",
       "        text-align: right;\n",
       "    }\n",
       "</style>\n",
       "<table border=\"1\" class=\"dataframe\">\n",
       "  <thead>\n",
       "    <tr style=\"text-align: right;\">\n",
       "      <th></th>\n",
       "      <th>client_catalog</th>\n",
       "      <th>item_catalog</th>\n",
       "      <th>rating</th>\n",
       "    </tr>\n",
       "  </thead>\n",
       "  <tbody>\n",
       "    <tr>\n",
       "      <th>0</th>\n",
       "      <td>2</td>\n",
       "      <td>315</td>\n",
       "      <td>10.66</td>\n",
       "    </tr>\n",
       "    <tr>\n",
       "      <th>1</th>\n",
       "      <td>2</td>\n",
       "      <td>7893</td>\n",
       "      <td>10.54</td>\n",
       "    </tr>\n",
       "    <tr>\n",
       "      <th>2</th>\n",
       "      <td>2</td>\n",
       "      <td>859</td>\n",
       "      <td>9.37</td>\n",
       "    </tr>\n",
       "    <tr>\n",
       "      <th>3</th>\n",
       "      <td>2</td>\n",
       "      <td>156</td>\n",
       "      <td>9.33</td>\n",
       "    </tr>\n",
       "    <tr>\n",
       "      <th>4</th>\n",
       "      <td>2</td>\n",
       "      <td>8787</td>\n",
       "      <td>9.29</td>\n",
       "    </tr>\n",
       "    <tr>\n",
       "      <th>...</th>\n",
       "      <td>...</td>\n",
       "      <td>...</td>\n",
       "      <td>...</td>\n",
       "    </tr>\n",
       "    <tr>\n",
       "      <th>35675</th>\n",
       "      <td>16463</td>\n",
       "      <td>1236</td>\n",
       "      <td>NaN</td>\n",
       "    </tr>\n",
       "    <tr>\n",
       "      <th>35676</th>\n",
       "      <td>16463</td>\n",
       "      <td>1045</td>\n",
       "      <td>NaN</td>\n",
       "    </tr>\n",
       "    <tr>\n",
       "      <th>35677</th>\n",
       "      <td>16463</td>\n",
       "      <td>50</td>\n",
       "      <td>NaN</td>\n",
       "    </tr>\n",
       "    <tr>\n",
       "      <th>35678</th>\n",
       "      <td>16463</td>\n",
       "      <td>946</td>\n",
       "      <td>NaN</td>\n",
       "    </tr>\n",
       "    <tr>\n",
       "      <th>35679</th>\n",
       "      <td>16463</td>\n",
       "      <td>839</td>\n",
       "      <td>NaN</td>\n",
       "    </tr>\n",
       "  </tbody>\n",
       "</table>\n",
       "<p>218940 rows × 3 columns</p>\n",
       "</div>"
      ],
      "text/plain": [
       "       client_catalog  item_catalog               rating\n",
       "0                   2           315                10.66\n",
       "1                   2          7893                10.54\n",
       "2                   2           859                 9.37\n",
       "3                   2           156                 9.33\n",
       "4                   2          8787                 9.29\n",
       "...               ...           ...                  ...\n",
       "35675           16463          1236                  NaN\n",
       "35676           16463          1045                  NaN\n",
       "35677           16463            50                  NaN\n",
       "35678           16463           946                  NaN\n",
       "35679           16463           839                  NaN\n",
       "\n",
       "[218940 rows x 3 columns]"
      ]
     },
     "execution_count": 33,
     "metadata": {},
     "output_type": "execute_result"
    }
   ],
   "source": [
    "recommendations_top"
   ]
  },
  {
   "cell_type": "markdown",
   "metadata": {},
   "source": [
    "## push df to postgres"
   ]
  },
  {
   "cell_type": "code",
   "execution_count": 169,
   "metadata": {},
   "outputs": [
    {
     "name": "stdout",
     "output_type": "stream",
     "text": [
      "Wall time: 5.98 s\n"
     ]
    }
   ],
   "source": [
    "%%time\n",
    "conn = psycopg2.connect(\n",
    "    host=\"*****\",\n",
    "    user=\"*****\",\n",
    "    dbname=\"*****\",\n",
    "    password=\"*****\",\n",
    "    sslmode=\"require\"\n",
    ")\n",
    "cur = conn.cursor()\n",
    "\n",
    "product_catalog = pd.read_sql(\"SELECT * FROM product_catalog\", conn)\n",
    "client_catalog = pd.read_sql(\"SELECT * FROM client_catalog\", conn)"
   ]
  },
  {
   "cell_type": "code",
   "execution_count": 170,
   "metadata": {},
   "outputs": [],
   "source": [
    "recommendations_top = pd.merge(recommendations_top, product_catalog, on='item_catalog', how='left')\n",
    "recommendations_top = pd.merge(recommendations_top, client_catalog, on='client_catalog', how='left')\n",
    "\n",
    "items_top = pd.merge(items_top, product_catalog, on='item_catalog', how='left')"
   ]
  },
  {
   "cell_type": "code",
   "execution_count": 171,
   "metadata": {},
   "outputs": [],
   "source": [
    "recommendations_top = recommendations_top[['client_id', 'item_id', 'rating']]\n",
    "items_top = items_top[['item_id', 'count']]"
   ]
  },
  {
   "cell_type": "code",
   "execution_count": 172,
   "metadata": {},
   "outputs": [
    {
     "data": {
      "text/html": [
       "<div>\n",
       "<style scoped>\n",
       "    .dataframe tbody tr th:only-of-type {\n",
       "        vertical-align: middle;\n",
       "    }\n",
       "\n",
       "    .dataframe tbody tr th {\n",
       "        vertical-align: top;\n",
       "    }\n",
       "\n",
       "    .dataframe thead th {\n",
       "        text-align: right;\n",
       "    }\n",
       "</style>\n",
       "<table border=\"1\" class=\"dataframe\">\n",
       "  <thead>\n",
       "    <tr style=\"text-align: right;\">\n",
       "      <th></th>\n",
       "      <th>client_id</th>\n",
       "      <th>item_id</th>\n",
       "      <th>rating</th>\n",
       "    </tr>\n",
       "  </thead>\n",
       "  <tbody>\n",
       "    <tr>\n",
       "      <th>0</th>\n",
       "      <td>3b65b764-9fbd-11db-80d7-001438c58cb4</td>\n",
       "      <td>3192b1fa-509c-11e9-bba4-20677c60fed0</td>\n",
       "      <td>10.16</td>\n",
       "    </tr>\n",
       "    <tr>\n",
       "      <th>1</th>\n",
       "      <td>3b65b764-9fbd-11db-80d7-001438c58cb4</td>\n",
       "      <td>6db1b25d-9c05-11e9-bba6-20677c60fed0</td>\n",
       "      <td>9.25</td>\n",
       "    </tr>\n",
       "    <tr>\n",
       "      <th>2</th>\n",
       "      <td>3b65b764-9fbd-11db-80d7-001438c58cb4</td>\n",
       "      <td>dcc1e255-05c9-11e5-890b-40a8f02a150c</td>\n",
       "      <td>8.93</td>\n",
       "    </tr>\n",
       "    <tr>\n",
       "      <th>3</th>\n",
       "      <td>3b65b764-9fbd-11db-80d7-001438c58cb4</td>\n",
       "      <td>34df433c-b9c8-11e9-bba9-20677c60fed0</td>\n",
       "      <td>8.85</td>\n",
       "    </tr>\n",
       "    <tr>\n",
       "      <th>4</th>\n",
       "      <td>3b65b764-9fbd-11db-80d7-001438c58cb4</td>\n",
       "      <td>f19a5da7-46f0-11e9-bba3-20677c60fed0</td>\n",
       "      <td>8.66</td>\n",
       "    </tr>\n",
       "    <tr>\n",
       "      <th>...</th>\n",
       "      <td>...</td>\n",
       "      <td>...</td>\n",
       "      <td>...</td>\n",
       "    </tr>\n",
       "    <tr>\n",
       "      <th>219055</th>\n",
       "      <td>0f382055-2527-41d2-9a1a-11ff3ef04c4b</td>\n",
       "      <td>b60cba0b-2618-11ea-bbb0-20677c60fed0</td>\n",
       "      <td>NaN</td>\n",
       "    </tr>\n",
       "    <tr>\n",
       "      <th>219056</th>\n",
       "      <td>0f382055-2527-41d2-9a1a-11ff3ef04c4b</td>\n",
       "      <td>439b1756-2f7c-11e4-b5be-18a90562e070</td>\n",
       "      <td>NaN</td>\n",
       "    </tr>\n",
       "    <tr>\n",
       "      <th>219057</th>\n",
       "      <td>0f382055-2527-41d2-9a1a-11ff3ef04c4b</td>\n",
       "      <td>c44a0511-d39f-11e9-bbaa-20677c60fed0</td>\n",
       "      <td>NaN</td>\n",
       "    </tr>\n",
       "    <tr>\n",
       "      <th>219058</th>\n",
       "      <td>0f382055-2527-41d2-9a1a-11ff3ef04c4b</td>\n",
       "      <td>3b9221a3-00ee-11da-967e-505054503030</td>\n",
       "      <td>NaN</td>\n",
       "    </tr>\n",
       "    <tr>\n",
       "      <th>219059</th>\n",
       "      <td>0f382055-2527-41d2-9a1a-11ff3ef04c4b</td>\n",
       "      <td>439b1760-2f7c-11e4-b5be-18a90562e070</td>\n",
       "      <td>NaN</td>\n",
       "    </tr>\n",
       "  </tbody>\n",
       "</table>\n",
       "<p>219060 rows × 3 columns</p>\n",
       "</div>"
      ],
      "text/plain": [
       "                                   client_id  \\\n",
       "0       3b65b764-9fbd-11db-80d7-001438c58cb4   \n",
       "1       3b65b764-9fbd-11db-80d7-001438c58cb4   \n",
       "2       3b65b764-9fbd-11db-80d7-001438c58cb4   \n",
       "3       3b65b764-9fbd-11db-80d7-001438c58cb4   \n",
       "4       3b65b764-9fbd-11db-80d7-001438c58cb4   \n",
       "...                                      ...   \n",
       "219055  0f382055-2527-41d2-9a1a-11ff3ef04c4b   \n",
       "219056  0f382055-2527-41d2-9a1a-11ff3ef04c4b   \n",
       "219057  0f382055-2527-41d2-9a1a-11ff3ef04c4b   \n",
       "219058  0f382055-2527-41d2-9a1a-11ff3ef04c4b   \n",
       "219059  0f382055-2527-41d2-9a1a-11ff3ef04c4b   \n",
       "\n",
       "                                     item_id               rating  \n",
       "0       3192b1fa-509c-11e9-bba4-20677c60fed0                10.16  \n",
       "1       6db1b25d-9c05-11e9-bba6-20677c60fed0                 9.25  \n",
       "2       dcc1e255-05c9-11e5-890b-40a8f02a150c                 8.93  \n",
       "3       34df433c-b9c8-11e9-bba9-20677c60fed0                 8.85  \n",
       "4       f19a5da7-46f0-11e9-bba3-20677c60fed0                 8.66  \n",
       "...                                      ...                  ...  \n",
       "219055  b60cba0b-2618-11ea-bbb0-20677c60fed0                  NaN  \n",
       "219056  439b1756-2f7c-11e4-b5be-18a90562e070                  NaN  \n",
       "219057  c44a0511-d39f-11e9-bbaa-20677c60fed0                  NaN  \n",
       "219058  3b9221a3-00ee-11da-967e-505054503030                  NaN  \n",
       "219059  439b1760-2f7c-11e4-b5be-18a90562e070                  NaN  \n",
       "\n",
       "[219060 rows x 3 columns]"
      ]
     },
     "execution_count": 172,
     "metadata": {},
     "output_type": "execute_result"
    }
   ],
   "source": [
    "recommendations_top"
   ]
  },
  {
   "cell_type": "code",
   "execution_count": 173,
   "metadata": {},
   "outputs": [],
   "source": [
    "sio = StringIO()\n",
    "recommendations_top.to_csv(sio, sep='\\t', header=False, index=False)\n",
    "sio.seek(0)\n",
    "\n",
    "cur.execute(\"TRUNCATE recommendations\")\n",
    "cur.copy_from(sio, 'recommendations', columns=recommendations_top.columns)\n",
    "conn.commit()"
   ]
  },
  {
   "cell_type": "code",
   "execution_count": 174,
   "metadata": {},
   "outputs": [],
   "source": [
    "sio = StringIO()\n",
    "items_top.to_csv(sio, sep='\\t', header=False, index=False)\n",
    "sio.seek(0)\n",
    "\n",
    "cur.execute(\"TRUNCATE top\")\n",
    "cur.copy_from(sio, 'top', columns=items_top.columns)\n",
    "conn.commit()"
   ]
  },
  {
   "cell_type": "code",
   "execution_count": 175,
   "metadata": {},
   "outputs": [
    {
     "data": {
      "text/html": [
       "<div>\n",
       "<style scoped>\n",
       "    .dataframe tbody tr th:only-of-type {\n",
       "        vertical-align: middle;\n",
       "    }\n",
       "\n",
       "    .dataframe tbody tr th {\n",
       "        vertical-align: top;\n",
       "    }\n",
       "\n",
       "    .dataframe thead th {\n",
       "        text-align: right;\n",
       "    }\n",
       "</style>\n",
       "<table border=\"1\" class=\"dataframe\">\n",
       "  <thead>\n",
       "    <tr style=\"text-align: right;\">\n",
       "      <th></th>\n",
       "      <th>client_catalog</th>\n",
       "      <th>key</th>\n",
       "    </tr>\n",
       "  </thead>\n",
       "  <tbody>\n",
       "    <tr>\n",
       "      <th>0</th>\n",
       "      <td>46</td>\n",
       "      <td>0</td>\n",
       "    </tr>\n",
       "    <tr>\n",
       "      <th>1</th>\n",
       "      <td>64</td>\n",
       "      <td>0</td>\n",
       "    </tr>\n",
       "    <tr>\n",
       "      <th>2</th>\n",
       "      <td>90</td>\n",
       "      <td>0</td>\n",
       "    </tr>\n",
       "    <tr>\n",
       "      <th>3</th>\n",
       "      <td>94</td>\n",
       "      <td>0</td>\n",
       "    </tr>\n",
       "    <tr>\n",
       "      <th>4</th>\n",
       "      <td>139</td>\n",
       "      <td>0</td>\n",
       "    </tr>\n",
       "    <tr>\n",
       "      <th>...</th>\n",
       "      <td>...</td>\n",
       "      <td>...</td>\n",
       "    </tr>\n",
       "    <tr>\n",
       "      <th>1766</th>\n",
       "      <td>11982</td>\n",
       "      <td>0</td>\n",
       "    </tr>\n",
       "    <tr>\n",
       "      <th>1767</th>\n",
       "      <td>16130</td>\n",
       "      <td>0</td>\n",
       "    </tr>\n",
       "    <tr>\n",
       "      <th>1768</th>\n",
       "      <td>16206</td>\n",
       "      <td>0</td>\n",
       "    </tr>\n",
       "    <tr>\n",
       "      <th>1769</th>\n",
       "      <td>16443</td>\n",
       "      <td>0</td>\n",
       "    </tr>\n",
       "    <tr>\n",
       "      <th>1770</th>\n",
       "      <td>16463</td>\n",
       "      <td>0</td>\n",
       "    </tr>\n",
       "  </tbody>\n",
       "</table>\n",
       "<p>1771 rows × 2 columns</p>\n",
       "</div>"
      ],
      "text/plain": [
       "      client_catalog  key\n",
       "0                 46    0\n",
       "1                 64    0\n",
       "2                 90    0\n",
       "3                 94    0\n",
       "4                139    0\n",
       "...              ...  ...\n",
       "1766           11982    0\n",
       "1767           16130    0\n",
       "1768           16206    0\n",
       "1769           16443    0\n",
       "1770           16463    0\n",
       "\n",
       "[1771 rows x 2 columns]"
      ]
     },
     "execution_count": 175,
     "metadata": {},
     "output_type": "execute_result"
    }
   ],
   "source": [
    "clients_out"
   ]
  },
  {
   "cell_type": "code",
   "execution_count": null,
   "metadata": {},
   "outputs": [],
   "source": []
  }
 ],
 "metadata": {
  "kernelspec": {
   "display_name": "Python 3",
   "language": "python",
   "name": "python3"
  },
  "language_info": {
   "codemirror_mode": {
    "name": "ipython",
    "version": 3
   },
   "file_extension": ".py",
   "mimetype": "text/x-python",
   "name": "python",
   "nbconvert_exporter": "python",
   "pygments_lexer": "ipython3",
   "version": "3.7.6"
  }
 },
 "nbformat": 4,
 "nbformat_minor": 4
}
